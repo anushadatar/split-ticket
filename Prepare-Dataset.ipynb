{
  "nbformat": 4,
  "nbformat_minor": 0,
  "metadata": {
    "kernelspec": {
      "display_name": "Python 3",
      "language": "python",
      "name": "python3"
    },
    "language_info": {
      "codemirror_mode": {
        "name": "ipython",
        "version": 3
      },
      "file_extension": ".py",
      "mimetype": "text/x-python",
      "name": "python",
      "nbconvert_exporter": "python",
      "pygments_lexer": "ipython3",
      "version": "3.7.3"
    },
    "colab": {
      "name": "Prepare-Dataset.ipynb",
      "provenance": [],
      "include_colab_link": true
    }
  },
  "cells": [
    {
      "cell_type": "markdown",
      "metadata": {
        "id": "view-in-github",
        "colab_type": "text"
      },
      "source": [
        "<a href=\"https://colab.research.google.com/github/anushadatar/split-ticket/blob/master/Prepare-Dataset.ipynb\" target=\"_parent\"><img src=\"https://colab.research.google.com/assets/colab-badge.svg\" alt=\"Open In Colab\"/></a>"
      ]
    },
    {
      "cell_type": "markdown",
      "metadata": {
        "id": "UKuI9nG9lkWF",
        "colab_type": "text"
      },
      "source": [
        "# Cleanup, Validation, and Resampling\n",
        "\n",
        "This repository contains code for cleaning up and validating the ANES dataset for use in this project."
      ]
    },
    {
      "cell_type": "code",
      "metadata": {
        "id": "nfFwtwvglkWI",
        "colab_type": "code",
        "colab": {}
      },
      "source": [
        "import pandas as pd\n",
        "import numpy as np"
      ],
      "execution_count": 0,
      "outputs": []
    },
    {
      "cell_type": "markdown",
      "metadata": {
        "id": "yAmmgvKylkWR",
        "colab_type": "text"
      },
      "source": [
        "# Load the datset.\n",
        "For this analysis, I will be using the ANES (American National Elections Study) dataset. \n",
        "\n",
        "This dataset includes information from pre and post election surveys for voters from 1948 to 2016 - voters were interviewed both leading up to and following the election year the survey corresponds to. Each row in the dataframe corresponds to a dataset \n",
        "\n",
        "I got the data by creating an account on the ANES website and downloading the staa file (.dta). I then extracted the columns associated with my analysis, saved the new dataframe as a csv, and uploaded it to GitHub so that I can easily access it using Colab "
      ]
    },
    {
      "cell_type": "code",
      "metadata": {
        "id": "ZMu7xCCUlkWS",
        "colab_type": "code",
        "colab": {}
      },
      "source": [
        "url = 'https://raw.githubusercontent.com/anushadatar/split-ticket/master/data/anes.csv'\n",
        "anes = pd.read_csv(url)"
      ],
      "execution_count": 0,
      "outputs": []
    },
    {
      "cell_type": "code",
      "metadata": {
        "scrolled": true,
        "id": "qqlbU4_glkWZ",
        "colab_type": "code",
        "colab": {
          "base_uri": "https://localhost:8080/",
          "height": 406
        },
        "outputId": "95c5fe33-f77f-4da9-c405-35b514b60928"
      },
      "source": [
        "anes"
      ],
      "execution_count": 5,
      "outputs": [
        {
          "output_type": "execute_result",
          "data": {
            "text/html": [
              "<div>\n",
              "<style scoped>\n",
              "    .dataframe tbody tr th:only-of-type {\n",
              "        vertical-align: middle;\n",
              "    }\n",
              "\n",
              "    .dataframe tbody tr th {\n",
              "        vertical-align: top;\n",
              "    }\n",
              "\n",
              "    .dataframe thead th {\n",
              "        text-align: right;\n",
              "    }\n",
              "</style>\n",
              "<table border=\"1\" class=\"dataframe\">\n",
              "  <thead>\n",
              "    <tr style=\"text-align: right;\">\n",
              "      <th></th>\n",
              "      <th>Unnamed: 0</th>\n",
              "      <th>VCF0009z</th>\n",
              "      <th>VCF0004</th>\n",
              "      <th>VCF0706</th>\n",
              "      <th>VCF0707</th>\n",
              "      <th>VCF0708</th>\n",
              "      <th>VCF0301</th>\n",
              "    </tr>\n",
              "  </thead>\n",
              "  <tbody>\n",
              "    <tr>\n",
              "      <th>0</th>\n",
              "      <td>0</td>\n",
              "      <td>1.000</td>\n",
              "      <td>1948.0</td>\n",
              "      <td>1. Democrat</td>\n",
              "      <td>NaN</td>\n",
              "      <td>NaN</td>\n",
              "      <td>NaN</td>\n",
              "    </tr>\n",
              "    <tr>\n",
              "      <th>1</th>\n",
              "      <td>1</td>\n",
              "      <td>1.000</td>\n",
              "      <td>1948.0</td>\n",
              "      <td>2. Republican</td>\n",
              "      <td>NaN</td>\n",
              "      <td>NaN</td>\n",
              "      <td>NaN</td>\n",
              "    </tr>\n",
              "    <tr>\n",
              "      <th>2</th>\n",
              "      <td>2</td>\n",
              "      <td>1.000</td>\n",
              "      <td>1948.0</td>\n",
              "      <td>1. Democrat</td>\n",
              "      <td>NaN</td>\n",
              "      <td>NaN</td>\n",
              "      <td>NaN</td>\n",
              "    </tr>\n",
              "    <tr>\n",
              "      <th>3</th>\n",
              "      <td>3</td>\n",
              "      <td>1.000</td>\n",
              "      <td>1948.0</td>\n",
              "      <td>2. Republican</td>\n",
              "      <td>NaN</td>\n",
              "      <td>NaN</td>\n",
              "      <td>NaN</td>\n",
              "    </tr>\n",
              "    <tr>\n",
              "      <th>4</th>\n",
              "      <td>4</td>\n",
              "      <td>1.000</td>\n",
              "      <td>1948.0</td>\n",
              "      <td>1. Democrat</td>\n",
              "      <td>NaN</td>\n",
              "      <td>NaN</td>\n",
              "      <td>NaN</td>\n",
              "    </tr>\n",
              "    <tr>\n",
              "      <th>...</th>\n",
              "      <td>...</td>\n",
              "      <td>...</td>\n",
              "      <td>...</td>\n",
              "      <td>...</td>\n",
              "      <td>...</td>\n",
              "      <td>...</td>\n",
              "      <td>...</td>\n",
              "    </tr>\n",
              "    <tr>\n",
              "      <th>59939</th>\n",
              "      <td>59939</td>\n",
              "      <td>0.837</td>\n",
              "      <td>2016.0</td>\n",
              "      <td>1. Democrat</td>\n",
              "      <td>NaN</td>\n",
              "      <td>NaN</td>\n",
              "      <td>1. Strong Democrat</td>\n",
              "    </tr>\n",
              "    <tr>\n",
              "      <th>59940</th>\n",
              "      <td>59940</td>\n",
              "      <td>1.310</td>\n",
              "      <td>2016.0</td>\n",
              "      <td>2. Republican</td>\n",
              "      <td>2. Republican</td>\n",
              "      <td>NaN</td>\n",
              "      <td>1. Strong Democrat</td>\n",
              "    </tr>\n",
              "    <tr>\n",
              "      <th>59941</th>\n",
              "      <td>59941</td>\n",
              "      <td>3.881</td>\n",
              "      <td>2016.0</td>\n",
              "      <td>NaN</td>\n",
              "      <td>NaN</td>\n",
              "      <td>NaN</td>\n",
              "      <td>2. Weak Democrat</td>\n",
              "    </tr>\n",
              "    <tr>\n",
              "      <th>59942</th>\n",
              "      <td>59942</td>\n",
              "      <td>1.192</td>\n",
              "      <td>2016.0</td>\n",
              "      <td>1. Democrat</td>\n",
              "      <td>1. Democrat</td>\n",
              "      <td>1. Democrat</td>\n",
              "      <td>1. Strong Democrat</td>\n",
              "    </tr>\n",
              "    <tr>\n",
              "      <th>59943</th>\n",
              "      <td>59943</td>\n",
              "      <td>1.460</td>\n",
              "      <td>2016.0</td>\n",
              "      <td>NaN</td>\n",
              "      <td>NaN</td>\n",
              "      <td>NaN</td>\n",
              "      <td>6. Weak Republican</td>\n",
              "    </tr>\n",
              "  </tbody>\n",
              "</table>\n",
              "<p>59944 rows × 7 columns</p>\n",
              "</div>"
            ],
            "text/plain": [
              "       Unnamed: 0  VCF0009z  ...      VCF0708             VCF0301\n",
              "0               0     1.000  ...          NaN                 NaN\n",
              "1               1     1.000  ...          NaN                 NaN\n",
              "2               2     1.000  ...          NaN                 NaN\n",
              "3               3     1.000  ...          NaN                 NaN\n",
              "4               4     1.000  ...          NaN                 NaN\n",
              "...           ...       ...  ...          ...                 ...\n",
              "59939       59939     0.837  ...          NaN  1. Strong Democrat\n",
              "59940       59940     1.310  ...          NaN  1. Strong Democrat\n",
              "59941       59941     3.881  ...          NaN    2. Weak Democrat\n",
              "59942       59942     1.192  ...  1. Democrat  1. Strong Democrat\n",
              "59943       59943     1.460  ...          NaN  6. Weak Republican\n",
              "\n",
              "[59944 rows x 7 columns]"
            ]
          },
          "metadata": {
            "tags": []
          },
          "execution_count": 5
        }
      ]
    },
    {
      "cell_type": "code",
      "metadata": {
        "id": "-lUFVKqtlkWj",
        "colab_type": "code",
        "colab": {
          "base_uri": "https://localhost:8080/",
          "height": 197
        },
        "outputId": "c4393c98-4bbb-4833-de8d-2c993e4fa837"
      },
      "source": [
        "anes.head()"
      ],
      "execution_count": 6,
      "outputs": [
        {
          "output_type": "execute_result",
          "data": {
            "text/html": [
              "<div>\n",
              "<style scoped>\n",
              "    .dataframe tbody tr th:only-of-type {\n",
              "        vertical-align: middle;\n",
              "    }\n",
              "\n",
              "    .dataframe tbody tr th {\n",
              "        vertical-align: top;\n",
              "    }\n",
              "\n",
              "    .dataframe thead th {\n",
              "        text-align: right;\n",
              "    }\n",
              "</style>\n",
              "<table border=\"1\" class=\"dataframe\">\n",
              "  <thead>\n",
              "    <tr style=\"text-align: right;\">\n",
              "      <th></th>\n",
              "      <th>Unnamed: 0</th>\n",
              "      <th>VCF0009z</th>\n",
              "      <th>VCF0004</th>\n",
              "      <th>VCF0706</th>\n",
              "      <th>VCF0707</th>\n",
              "      <th>VCF0708</th>\n",
              "      <th>VCF0301</th>\n",
              "    </tr>\n",
              "  </thead>\n",
              "  <tbody>\n",
              "    <tr>\n",
              "      <th>0</th>\n",
              "      <td>0</td>\n",
              "      <td>1.0</td>\n",
              "      <td>1948.0</td>\n",
              "      <td>1. Democrat</td>\n",
              "      <td>NaN</td>\n",
              "      <td>NaN</td>\n",
              "      <td>NaN</td>\n",
              "    </tr>\n",
              "    <tr>\n",
              "      <th>1</th>\n",
              "      <td>1</td>\n",
              "      <td>1.0</td>\n",
              "      <td>1948.0</td>\n",
              "      <td>2. Republican</td>\n",
              "      <td>NaN</td>\n",
              "      <td>NaN</td>\n",
              "      <td>NaN</td>\n",
              "    </tr>\n",
              "    <tr>\n",
              "      <th>2</th>\n",
              "      <td>2</td>\n",
              "      <td>1.0</td>\n",
              "      <td>1948.0</td>\n",
              "      <td>1. Democrat</td>\n",
              "      <td>NaN</td>\n",
              "      <td>NaN</td>\n",
              "      <td>NaN</td>\n",
              "    </tr>\n",
              "    <tr>\n",
              "      <th>3</th>\n",
              "      <td>3</td>\n",
              "      <td>1.0</td>\n",
              "      <td>1948.0</td>\n",
              "      <td>2. Republican</td>\n",
              "      <td>NaN</td>\n",
              "      <td>NaN</td>\n",
              "      <td>NaN</td>\n",
              "    </tr>\n",
              "    <tr>\n",
              "      <th>4</th>\n",
              "      <td>4</td>\n",
              "      <td>1.0</td>\n",
              "      <td>1948.0</td>\n",
              "      <td>1. Democrat</td>\n",
              "      <td>NaN</td>\n",
              "      <td>NaN</td>\n",
              "      <td>NaN</td>\n",
              "    </tr>\n",
              "  </tbody>\n",
              "</table>\n",
              "</div>"
            ],
            "text/plain": [
              "   Unnamed: 0  VCF0009z  VCF0004        VCF0706 VCF0707 VCF0708 VCF0301\n",
              "0           0       1.0   1948.0    1. Democrat     NaN     NaN     NaN\n",
              "1           1       1.0   1948.0  2. Republican     NaN     NaN     NaN\n",
              "2           2       1.0   1948.0    1. Democrat     NaN     NaN     NaN\n",
              "3           3       1.0   1948.0  2. Republican     NaN     NaN     NaN\n",
              "4           4       1.0   1948.0    1. Democrat     NaN     NaN     NaN"
            ]
          },
          "metadata": {
            "tags": []
          },
          "execution_count": 6
        }
      ]
    },
    {
      "cell_type": "code",
      "metadata": {
        "id": "L33LPizUlkWq",
        "colab_type": "code",
        "colab": {
          "base_uri": "https://localhost:8080/",
          "height": 197
        },
        "outputId": "ea082e76-2d74-41fa-b4b7-c8e12ea63252"
      },
      "source": [
        "anes.tail()"
      ],
      "execution_count": 7,
      "outputs": [
        {
          "output_type": "execute_result",
          "data": {
            "text/html": [
              "<div>\n",
              "<style scoped>\n",
              "    .dataframe tbody tr th:only-of-type {\n",
              "        vertical-align: middle;\n",
              "    }\n",
              "\n",
              "    .dataframe tbody tr th {\n",
              "        vertical-align: top;\n",
              "    }\n",
              "\n",
              "    .dataframe thead th {\n",
              "        text-align: right;\n",
              "    }\n",
              "</style>\n",
              "<table border=\"1\" class=\"dataframe\">\n",
              "  <thead>\n",
              "    <tr style=\"text-align: right;\">\n",
              "      <th></th>\n",
              "      <th>Unnamed: 0</th>\n",
              "      <th>VCF0009z</th>\n",
              "      <th>VCF0004</th>\n",
              "      <th>VCF0706</th>\n",
              "      <th>VCF0707</th>\n",
              "      <th>VCF0708</th>\n",
              "      <th>VCF0301</th>\n",
              "    </tr>\n",
              "  </thead>\n",
              "  <tbody>\n",
              "    <tr>\n",
              "      <th>59939</th>\n",
              "      <td>59939</td>\n",
              "      <td>0.837</td>\n",
              "      <td>2016.0</td>\n",
              "      <td>1. Democrat</td>\n",
              "      <td>NaN</td>\n",
              "      <td>NaN</td>\n",
              "      <td>1. Strong Democrat</td>\n",
              "    </tr>\n",
              "    <tr>\n",
              "      <th>59940</th>\n",
              "      <td>59940</td>\n",
              "      <td>1.310</td>\n",
              "      <td>2016.0</td>\n",
              "      <td>2. Republican</td>\n",
              "      <td>2. Republican</td>\n",
              "      <td>NaN</td>\n",
              "      <td>1. Strong Democrat</td>\n",
              "    </tr>\n",
              "    <tr>\n",
              "      <th>59941</th>\n",
              "      <td>59941</td>\n",
              "      <td>3.881</td>\n",
              "      <td>2016.0</td>\n",
              "      <td>NaN</td>\n",
              "      <td>NaN</td>\n",
              "      <td>NaN</td>\n",
              "      <td>2. Weak Democrat</td>\n",
              "    </tr>\n",
              "    <tr>\n",
              "      <th>59942</th>\n",
              "      <td>59942</td>\n",
              "      <td>1.192</td>\n",
              "      <td>2016.0</td>\n",
              "      <td>1. Democrat</td>\n",
              "      <td>1. Democrat</td>\n",
              "      <td>1. Democrat</td>\n",
              "      <td>1. Strong Democrat</td>\n",
              "    </tr>\n",
              "    <tr>\n",
              "      <th>59943</th>\n",
              "      <td>59943</td>\n",
              "      <td>1.460</td>\n",
              "      <td>2016.0</td>\n",
              "      <td>NaN</td>\n",
              "      <td>NaN</td>\n",
              "      <td>NaN</td>\n",
              "      <td>6. Weak Republican</td>\n",
              "    </tr>\n",
              "  </tbody>\n",
              "</table>\n",
              "</div>"
            ],
            "text/plain": [
              "       Unnamed: 0  VCF0009z  ...      VCF0708             VCF0301\n",
              "59939       59939     0.837  ...          NaN  1. Strong Democrat\n",
              "59940       59940     1.310  ...          NaN  1. Strong Democrat\n",
              "59941       59941     3.881  ...          NaN    2. Weak Democrat\n",
              "59942       59942     1.192  ...  1. Democrat  1. Strong Democrat\n",
              "59943       59943     1.460  ...          NaN  6. Weak Republican\n",
              "\n",
              "[5 rows x 7 columns]"
            ]
          },
          "metadata": {
            "tags": []
          },
          "execution_count": 7
        }
      ]
    },
    {
      "cell_type": "code",
      "metadata": {
        "id": "ry_PtuIflkWy",
        "colab_type": "code",
        "colab": {
          "base_uri": "https://localhost:8080/",
          "height": 35
        },
        "outputId": "b10ca6a5-1ed4-4780-f660-9b67d64fd776"
      },
      "source": [
        "anes.shape"
      ],
      "execution_count": 8,
      "outputs": [
        {
          "output_type": "execute_result",
          "data": {
            "text/plain": [
              "(59944, 7)"
            ]
          },
          "metadata": {
            "tags": []
          },
          "execution_count": 8
        }
      ]
    },
    {
      "cell_type": "markdown",
      "metadata": {
        "id": "5PemArAvlkW4",
        "colab_type": "text"
      },
      "source": [
        "# Clean Up the Dataset"
      ]
    },
    {
      "cell_type": "markdown",
      "metadata": {
        "id": "NIwsoCxJlkW6",
        "colab_type": "text"
      },
      "source": [
        "These numerical error codes refer to missing data.\n",
        "\n",
        "All of the variables are categorical but they tend to have numerical error codes as such: \n",
        "\n",
        "‐1 = Inapplicable\n",
        "\n",
        "‐2 = Text responses available in separate file or coded version will be included in future release\n",
        "\n",
        "‐3 = Restricted\n",
        "\n",
        "‐4 = Error\n",
        "\n",
        "‐5 = Breakoff, sufficient partial IW\n",
        "\n",
        "‐6 = No post‐election interview\n",
        "\n",
        "‐7 = No post data, deleted due to incomplete IW\n",
        "\n",
        "‐8 = Don’t know\n",
        "\n",
        "‐9 = Refused\n",
        "\n",
        "I spent quite a bit of time trying to explore this dataset and decode the cells with missing data and the associated error codes - this quickly became overly complicated, and involved a large set of individual changes that did not apply to the variables under study later in the project.\n",
        "\n",
        "Eventually, I ended up just writing this function to apply on each column that I convert to numeric values that checks for negative variables and makes them into NaN. Referencing [Austin Veseliza's approach](https://github.com/AustinVes/Voter_Emotions/blob/master/main.ipynb) was very helpful here. I wrote functions for both the series and the dataset because the data is stored in categoricals by default, so for smaller commands I could just look at individual series. \n"
      ]
    },
    {
      "cell_type": "code",
      "metadata": {
        "id": "8vILsdrzlkW9",
        "colab_type": "code",
        "colab": {}
      },
      "source": [
        "from pandas.api.types import is_numeric_dtype\n",
        "\n",
        "def sanitize_series(series):\n",
        "    \"\"\"\n",
        "    Turns missing data codes in Pandas series into NaN, and then returns \n",
        "    the pandas series.\n",
        "    \"\"\"\n",
        "    return series.map(lambda n: n if (n > 0) else np.nan)\n",
        "\n",
        "def sanitize_df(df):\n",
        "    \"\"\"\n",
        "    Turns missing data codes in Pandas series into NaN, and then returns \n",
        "    the pandas series.\n",
        "    \"\"\"\n",
        "    return df.applymap(lambda n: np.nan if (is_numeric_dtype(type(n)) and n < 0) else n)\n"
      ],
      "execution_count": 0,
      "outputs": []
    },
    {
      "cell_type": "markdown",
      "metadata": {
        "id": "AAy53uHmlkXH",
        "colab_type": "text"
      },
      "source": [
        "For now, however, I will just run it on the entire dataset, which will take a minute but will facilitate validation."
      ]
    },
    {
      "cell_type": "code",
      "metadata": {
        "id": "PiH2XjxllkXI",
        "colab_type": "code",
        "colab": {}
      },
      "source": [
        "anes = sanitize_df(anes)"
      ],
      "execution_count": 0,
      "outputs": []
    },
    {
      "cell_type": "markdown",
      "metadata": {
        "id": "AxXrHZ2_lkXP",
        "colab_type": "text"
      },
      "source": [
        "# Explore the Dataset \n",
        "First I wanted to take a look at the extent of the dataset and look at some of the variables associated with the questions I am trying to answer.\n",
        "\n",
        "## Years of Analysis\n",
        "I took a look at the distribution of years of data collected."
      ]
    },
    {
      "cell_type": "code",
      "metadata": {
        "id": "sPJF5LjBlkXQ",
        "colab_type": "code",
        "colab": {
          "base_uri": "https://localhost:8080/",
          "height": 316
        },
        "outputId": "409b4e3e-fa99-4ead-e622-eed3176cd608"
      },
      "source": [
        "anes.hist(column = 'VCF0004')"
      ],
      "execution_count": 13,
      "outputs": [
        {
          "output_type": "execute_result",
          "data": {
            "text/plain": [
              "array([[<matplotlib.axes._subplots.AxesSubplot object at 0x7fc5ad71cef0>]],\n",
              "      dtype=object)"
            ]
          },
          "metadata": {
            "tags": []
          },
          "execution_count": 13
        },
        {
          "output_type": "display_data",
          "data": {
            "image/png": "[encoded data removed]",
            "text/plain": [
              "<Figure size 432x288 with 1 Axes>"
            ]
          },
          "metadata": {
            "tags": [],
            "needs_background": "light"
          }
        }
      ]
    },
    {
      "cell_type": "markdown",
      "metadata": {
        "id": "BfLdMGi3lkXY",
        "colab_type": "text"
      },
      "source": [
        "## Variables for a single year\n",
        "Let's start by taking a look at the results for a single year."
      ]
    },
    {
      "cell_type": "code",
      "metadata": {
        "id": "BZXKQEE3lkXa",
        "colab_type": "code",
        "colab": {
          "base_uri": "https://localhost:8080/",
          "height": 406
        },
        "outputId": "90781605-a9e3-48b0-d01b-3ea9e9026a51"
      },
      "source": [
        "year_number = 2000\n",
        "year_filter = anes['VCF0004'] == year_number\n",
        "year = anes[year_filter]\n",
        "year"
      ],
      "execution_count": 14,
      "outputs": [
        {
          "output_type": "execute_result",
          "data": {
            "text/html": [
              "<div>\n",
              "<style scoped>\n",
              "    .dataframe tbody tr th:only-of-type {\n",
              "        vertical-align: middle;\n",
              "    }\n",
              "\n",
              "    .dataframe tbody tr th {\n",
              "        vertical-align: top;\n",
              "    }\n",
              "\n",
              "    .dataframe thead th {\n",
              "        text-align: right;\n",
              "    }\n",
              "</style>\n",
              "<table border=\"1\" class=\"dataframe\">\n",
              "  <thead>\n",
              "    <tr style=\"text-align: right;\">\n",
              "      <th></th>\n",
              "      <th>Unnamed: 0</th>\n",
              "      <th>VCF0009z</th>\n",
              "      <th>VCF0004</th>\n",
              "      <th>VCF0706</th>\n",
              "      <th>VCF0707</th>\n",
              "      <th>VCF0708</th>\n",
              "      <th>VCF0301</th>\n",
              "    </tr>\n",
              "  </thead>\n",
              "  <tbody>\n",
              "    <tr>\n",
              "      <th>42908</th>\n",
              "      <td>42908</td>\n",
              "      <td>1.2886</td>\n",
              "      <td>2000.0</td>\n",
              "      <td>2. Republican</td>\n",
              "      <td>2. Republican</td>\n",
              "      <td>2. Republican</td>\n",
              "      <td>5. Independent - Republican</td>\n",
              "    </tr>\n",
              "    <tr>\n",
              "      <th>42909</th>\n",
              "      <td>42909</td>\n",
              "      <td>0.8959</td>\n",
              "      <td>2000.0</td>\n",
              "      <td>7. Did not vote or voted but not for president...</td>\n",
              "      <td>NaN</td>\n",
              "      <td>NaN</td>\n",
              "      <td>3. Independent - Democrat</td>\n",
              "    </tr>\n",
              "    <tr>\n",
              "      <th>42910</th>\n",
              "      <td>42910</td>\n",
              "      <td>1.0454</td>\n",
              "      <td>2000.0</td>\n",
              "      <td>1. Democrat</td>\n",
              "      <td>NaN</td>\n",
              "      <td>NaN</td>\n",
              "      <td>1. Strong Democrat</td>\n",
              "    </tr>\n",
              "    <tr>\n",
              "      <th>42911</th>\n",
              "      <td>42911</td>\n",
              "      <td>0.6005</td>\n",
              "      <td>2000.0</td>\n",
              "      <td>1. Democrat</td>\n",
              "      <td>1. Democrat</td>\n",
              "      <td>1. Democrat</td>\n",
              "      <td>3. Independent - Democrat</td>\n",
              "    </tr>\n",
              "    <tr>\n",
              "      <th>42912</th>\n",
              "      <td>42912</td>\n",
              "      <td>1.9270</td>\n",
              "      <td>2000.0</td>\n",
              "      <td>2. Republican</td>\n",
              "      <td>1. Democrat</td>\n",
              "      <td>1. Democrat</td>\n",
              "      <td>7. Strong Republican</td>\n",
              "    </tr>\n",
              "    <tr>\n",
              "      <th>...</th>\n",
              "      <td>...</td>\n",
              "      <td>...</td>\n",
              "      <td>...</td>\n",
              "      <td>...</td>\n",
              "      <td>...</td>\n",
              "      <td>...</td>\n",
              "      <td>...</td>\n",
              "    </tr>\n",
              "    <tr>\n",
              "      <th>44710</th>\n",
              "      <td>44710</td>\n",
              "      <td>0.8234</td>\n",
              "      <td>2000.0</td>\n",
              "      <td>1. Democrat</td>\n",
              "      <td>1. Democrat</td>\n",
              "      <td>1. Democrat</td>\n",
              "      <td>1. Strong Democrat</td>\n",
              "    </tr>\n",
              "    <tr>\n",
              "      <th>44711</th>\n",
              "      <td>44711</td>\n",
              "      <td>2.0407</td>\n",
              "      <td>2000.0</td>\n",
              "      <td>7. Did not vote or voted but not for president...</td>\n",
              "      <td>NaN</td>\n",
              "      <td>NaN</td>\n",
              "      <td>2. Weak Democrat</td>\n",
              "    </tr>\n",
              "    <tr>\n",
              "      <th>44712</th>\n",
              "      <td>44712</td>\n",
              "      <td>0.3717</td>\n",
              "      <td>2000.0</td>\n",
              "      <td>1. Democrat</td>\n",
              "      <td>NaN</td>\n",
              "      <td>NaN</td>\n",
              "      <td>1. Strong Democrat</td>\n",
              "    </tr>\n",
              "    <tr>\n",
              "      <th>44713</th>\n",
              "      <td>44713</td>\n",
              "      <td>1.5601</td>\n",
              "      <td>2000.0</td>\n",
              "      <td>7. Did not vote or voted but not for president...</td>\n",
              "      <td>NaN</td>\n",
              "      <td>NaN</td>\n",
              "      <td>2. Weak Democrat</td>\n",
              "    </tr>\n",
              "    <tr>\n",
              "      <th>44714</th>\n",
              "      <td>44714</td>\n",
              "      <td>0.6397</td>\n",
              "      <td>2000.0</td>\n",
              "      <td>NaN</td>\n",
              "      <td>NaN</td>\n",
              "      <td>NaN</td>\n",
              "      <td>2. Weak Democrat</td>\n",
              "    </tr>\n",
              "  </tbody>\n",
              "</table>\n",
              "<p>1807 rows × 7 columns</p>\n",
              "</div>"
            ],
            "text/plain": [
              "       Unnamed: 0  VCF0009z  ...        VCF0708                      VCF0301\n",
              "42908       42908    1.2886  ...  2. Republican  5. Independent - Republican\n",
              "42909       42909    0.8959  ...            NaN    3. Independent - Democrat\n",
              "42910       42910    1.0454  ...            NaN           1. Strong Democrat\n",
              "42911       42911    0.6005  ...    1. Democrat    3. Independent - Democrat\n",
              "42912       42912    1.9270  ...    1. Democrat         7. Strong Republican\n",
              "...           ...       ...  ...            ...                          ...\n",
              "44710       44710    0.8234  ...    1. Democrat           1. Strong Democrat\n",
              "44711       44711    2.0407  ...            NaN             2. Weak Democrat\n",
              "44712       44712    0.3717  ...            NaN           1. Strong Democrat\n",
              "44713       44713    1.5601  ...            NaN             2. Weak Democrat\n",
              "44714       44714    0.6397  ...            NaN             2. Weak Democrat\n",
              "\n",
              "[1807 rows x 7 columns]"
            ]
          },
          "metadata": {
            "tags": []
          },
          "execution_count": 14
        }
      ]
    },
    {
      "cell_type": "markdown",
      "metadata": {
        "id": "qjs7P9GAlkXg",
        "colab_type": "text"
      },
      "source": [
        "### Presidential Vote"
      ]
    },
    {
      "cell_type": "code",
      "metadata": {
        "id": "cx6AbQj-lkXh",
        "colab_type": "code",
        "colab": {
          "base_uri": "https://localhost:8080/",
          "height": 282
        },
        "outputId": "ccbbc494-a4c3-4637-adce-8b727c143e8f"
      },
      "source": [
        "pres_vote = year[\"VCF0706\"]\n",
        "pres_vote\n",
        "pres_vote_ints = pres_vote.map({'2. Republican': 2, '1. Democrat': 1, '3. Other (incl. 3d/minor party candidates and write-ins)': 3, '7. Did not vote or voted but not for president (exc.1972)': np.nan})\n",
        "pres_vote_ints.dropna().hist()"
      ],
      "execution_count": 15,
      "outputs": [
        {
          "output_type": "execute_result",
          "data": {
            "text/plain": [
              "<matplotlib.axes._subplots.AxesSubplot at 0x7fc5adb25a20>"
            ]
          },
          "metadata": {
            "tags": []
          },
          "execution_count": 15
        },
        {
          "output_type": "display_data",
          "data": {
            "image/png": "[encoded data removed]",
            "text/plain": [
              "<Figure size 432x288 with 1 Axes>"
            ]
          },
          "metadata": {
            "tags": [],
            "needs_background": "light"
          }
        }
      ]
    },
    {
      "cell_type": "markdown",
      "metadata": {
        "id": "uuR5RfJxlkXp",
        "colab_type": "text"
      },
      "source": [
        "### House Vote"
      ]
    },
    {
      "cell_type": "code",
      "metadata": {
        "id": "SeCNU-HIlkXq",
        "colab_type": "code",
        "colab": {
          "base_uri": "https://localhost:8080/",
          "height": 230
        },
        "outputId": "c338318e-7fd2-40ab-a54b-120667ff0806"
      },
      "source": [
        "house_vote = year[\"VCF0707\"]\n",
        "house_vote"
      ],
      "execution_count": 16,
      "outputs": [
        {
          "output_type": "execute_result",
          "data": {
            "text/plain": [
              "42908    2. Republican\n",
              "42909              NaN\n",
              "42910              NaN\n",
              "42911      1. Democrat\n",
              "42912      1. Democrat\n",
              "             ...      \n",
              "44710      1. Democrat\n",
              "44711              NaN\n",
              "44712              NaN\n",
              "44713              NaN\n",
              "44714              NaN\n",
              "Name: VCF0707, Length: 1807, dtype: object"
            ]
          },
          "metadata": {
            "tags": []
          },
          "execution_count": 16
        }
      ]
    },
    {
      "cell_type": "code",
      "metadata": {
        "id": "UAPdjD3XlkXw",
        "colab_type": "code",
        "colab": {
          "base_uri": "https://localhost:8080/",
          "height": 282
        },
        "outputId": "52929d30-c1bd-4767-983e-1d0e9ca78f72"
      },
      "source": [
        "house_vote_ints = house_vote.map({'2. Republican': 2, '1. Democrat': 1})\n",
        "house_vote_ints.dropna().hist()"
      ],
      "execution_count": 17,
      "outputs": [
        {
          "output_type": "execute_result",
          "data": {
            "text/plain": [
              "<matplotlib.axes._subplots.AxesSubplot at 0x7fc5ada9f0b8>"
            ]
          },
          "metadata": {
            "tags": []
          },
          "execution_count": 17
        },
        {
          "output_type": "display_data",
          "data": {
            "image/png": "[encoded data removed]",
            "text/plain": [
              "<Figure size 432x288 with 1 Axes>"
            ]
          },
          "metadata": {
            "tags": [],
            "needs_background": "light"
          }
        }
      ]
    },
    {
      "cell_type": "markdown",
      "metadata": {
        "id": "1CDjfjAJlkX5",
        "colab_type": "text"
      },
      "source": [
        "## Senate Vote"
      ]
    },
    {
      "cell_type": "code",
      "metadata": {
        "id": "wCkDEN4OlkX6",
        "colab_type": "code",
        "colab": {
          "base_uri": "https://localhost:8080/",
          "height": 230
        },
        "outputId": "88bf6d39-32a8-4227-d021-7a64697b2a76"
      },
      "source": [
        "senate_vote = year[\"VCF0708\"]\n",
        "senate_vote"
      ],
      "execution_count": 18,
      "outputs": [
        {
          "output_type": "execute_result",
          "data": {
            "text/plain": [
              "42908    2. Republican\n",
              "42909              NaN\n",
              "42910              NaN\n",
              "42911      1. Democrat\n",
              "42912      1. Democrat\n",
              "             ...      \n",
              "44710      1. Democrat\n",
              "44711              NaN\n",
              "44712              NaN\n",
              "44713              NaN\n",
              "44714              NaN\n",
              "Name: VCF0708, Length: 1807, dtype: object"
            ]
          },
          "metadata": {
            "tags": []
          },
          "execution_count": 18
        }
      ]
    },
    {
      "cell_type": "code",
      "metadata": {
        "id": "DvSL3Qo-lkYA",
        "colab_type": "code",
        "colab": {
          "base_uri": "https://localhost:8080/",
          "height": 282
        },
        "outputId": "363d5e57-ca37-4c82-c805-73783b43d4ad"
      },
      "source": [
        "senate_vote_ints = senate_vote.map({'2. Republican': 2, '1. Democrat': 1})\n",
        "senate_vote_ints.dropna().hist()"
      ],
      "execution_count": 19,
      "outputs": [
        {
          "output_type": "execute_result",
          "data": {
            "text/plain": [
              "<matplotlib.axes._subplots.AxesSubplot at 0x7fc5adb0fb00>"
            ]
          },
          "metadata": {
            "tags": []
          },
          "execution_count": 19
        },
        {
          "output_type": "display_data",
          "data": {
            "image/png": "[encoded data removed]",
            "text/plain": [
              "<Figure size 432x288 with 1 Axes>"
            ]
          },
          "metadata": {
            "tags": [],
            "needs_background": "light"
          }
        }
      ]
    },
    {
      "cell_type": "markdown",
      "metadata": {
        "id": "PuHwzV2RlkYa",
        "colab_type": "text"
      },
      "source": [
        "### Political View"
      ]
    },
    {
      "cell_type": "code",
      "metadata": {
        "id": "kskn7jY-lkYc",
        "colab_type": "code",
        "colab": {
          "base_uri": "https://localhost:8080/",
          "height": 230
        },
        "outputId": "3fcc1e4e-89da-4bdc-aadc-22d84248c3d0"
      },
      "source": [
        "views = year[\"VCF0301\"]\n",
        "views"
      ],
      "execution_count": 22,
      "outputs": [
        {
          "output_type": "execute_result",
          "data": {
            "text/plain": [
              "42908    5. Independent - Republican\n",
              "42909      3. Independent - Democrat\n",
              "42910             1. Strong Democrat\n",
              "42911      3. Independent - Democrat\n",
              "42912           7. Strong Republican\n",
              "                    ...             \n",
              "44710             1. Strong Democrat\n",
              "44711               2. Weak Democrat\n",
              "44712             1. Strong Democrat\n",
              "44713               2. Weak Democrat\n",
              "44714               2. Weak Democrat\n",
              "Name: VCF0301, Length: 1807, dtype: object"
            ]
          },
          "metadata": {
            "tags": []
          },
          "execution_count": 22
        }
      ]
    },
    {
      "cell_type": "code",
      "metadata": {
        "id": "jALUE88rlkYm",
        "colab_type": "code",
        "colab": {
          "base_uri": "https://localhost:8080/",
          "height": 282
        },
        "outputId": "f2c5223b-d881-4356-8bd0-0228ca06e6cd"
      },
      "source": [
        "views_ints = views.map({'1. Strong Democrat' : 0,\n",
        "                        '2. Weak Democrat' : 1,\n",
        "                        '3. Independent - Democrat': 2,\n",
        "                        '4. Independent - Independent': 3,\n",
        "                        '5. Independent - Republican': 4,\n",
        "                        '6. Weak Republican' : 5,\n",
        "                        '7. Strong Republican' : 6})\n",
        "views_ints.dropna().hist()"
      ],
      "execution_count": 23,
      "outputs": [
        {
          "output_type": "execute_result",
          "data": {
            "text/plain": [
              "<matplotlib.axes._subplots.AxesSubplot at 0x7fc5ad93a6a0>"
            ]
          },
          "metadata": {
            "tags": []
          },
          "execution_count": 23
        },
        {
          "output_type": "display_data",
          "data": {
            "image/png": "[encoded data removed]",
            "text/plain": [
              "<Figure size 432x288 with 1 Axes>"
            ]
          },
          "metadata": {
            "tags": [],
            "needs_background": "light"
          }
        }
      ]
    },
    {
      "cell_type": "markdown",
      "metadata": {
        "id": "q3cl4O4plkYt",
        "colab_type": "text"
      },
      "source": [
        "# Validate the Dataset\n",
        "I'll take a look at a couple of specific values for specific years and compare them to the dataset codebook to ensure that the values I have match their documentation. I'll do this for multiple years (one general election and one midterm) to make sure things align across different scenarios. \n",
        "\n",
        "## 2000 Value Counts\n",
        "\n",
        "I'll need to use the [cumulative codebook](https://electionstudies.org/wp-content/uploads/2018/12/anes_timeseries_cdf_codebook_var.pdf) to find the source variables for each of the variables under study, and then I can go to the codebook for the specific year to find the counts and check that they match my dataset.\n",
        "\n",
        "For the year 2000, I am expecting the following outcomes:\n",
        "\n",
        "President: Dem : 590, Rep: 530, Did not: 376, Other: 45\n",
        "\n",
        "Senate: Dem: 412, Rep: 340\n",
        "\n",
        "House: Dem: 467, Rep: 444\n",
        "\n",
        "Views: 1. Strong Dem: 346, 2. Weak Democrat: 273, 3. Independent - Democrat: 269, 4. Independent - Independent: 224, 5. Independent - Republican: 230, 6. Weak Republican: 214, 7. Strong Republican: 236"
      ]
    },
    {
      "cell_type": "code",
      "metadata": {
        "id": "7kHFQYj_lkYu",
        "colab_type": "code",
        "colab": {
          "base_uri": "https://localhost:8080/",
          "height": 105
        },
        "outputId": "8d39051f-8d20-4152-96d0-04f5a3e1158e"
      },
      "source": [
        "pres_vote.value_counts()"
      ],
      "execution_count": 24,
      "outputs": [
        {
          "output_type": "execute_result",
          "data": {
            "text/plain": [
              "1. Democrat                                                  590\n",
              "2. Republican                                                530\n",
              "7. Did not vote or voted but not for president (exc.1972)    376\n",
              "4. Other (incl. 3d/minor party candidates and write-ins)      45\n",
              "Name: VCF0706, dtype: int64"
            ]
          },
          "metadata": {
            "tags": []
          },
          "execution_count": 24
        }
      ]
    },
    {
      "cell_type": "code",
      "metadata": {
        "id": "2vnBtGuylkY2",
        "colab_type": "code",
        "colab": {
          "base_uri": "https://localhost:8080/",
          "height": 70
        },
        "outputId": "c5c10cee-5c7d-482e-e219-88ff047b8642"
      },
      "source": [
        "senate_vote.value_counts()"
      ],
      "execution_count": 25,
      "outputs": [
        {
          "output_type": "execute_result",
          "data": {
            "text/plain": [
              "1. Democrat      412\n",
              "2. Republican    340\n",
              "Name: VCF0708, dtype: int64"
            ]
          },
          "metadata": {
            "tags": []
          },
          "execution_count": 25
        }
      ]
    },
    {
      "cell_type": "code",
      "metadata": {
        "id": "Jvgg2Ih9lkY-",
        "colab_type": "code",
        "colab": {
          "base_uri": "https://localhost:8080/",
          "height": 70
        },
        "outputId": "52766b88-d84c-42b3-b0c5-0bd5a856ad11"
      },
      "source": [
        "house_vote.value_counts()"
      ],
      "execution_count": 26,
      "outputs": [
        {
          "output_type": "execute_result",
          "data": {
            "text/plain": [
              "1. Democrat      467\n",
              "2. Republican    444\n",
              "Name: VCF0707, dtype: int64"
            ]
          },
          "metadata": {
            "tags": []
          },
          "execution_count": 26
        }
      ]
    },
    {
      "cell_type": "code",
      "metadata": {
        "id": "zmGW6cPIlkZD",
        "colab_type": "code",
        "colab": {
          "base_uri": "https://localhost:8080/",
          "height": 158
        },
        "outputId": "f43892ed-d21b-4616-9f18-1dc86d5287d3"
      },
      "source": [
        "views.value_counts()\n"
      ],
      "execution_count": 27,
      "outputs": [
        {
          "output_type": "execute_result",
          "data": {
            "text/plain": [
              "1. Strong Democrat              346\n",
              "2. Weak Democrat                273\n",
              "3. Independent - Democrat       269\n",
              "7. Strong Republican            236\n",
              "5. Independent - Republican     230\n",
              "4. Independent - Independent    224\n",
              "6. Weak Republican              214\n",
              "Name: VCF0301, dtype: int64"
            ]
          },
          "metadata": {
            "tags": []
          },
          "execution_count": 27
        }
      ]
    },
    {
      "cell_type": "markdown",
      "metadata": {
        "id": "1dWHAO-HlkZL",
        "colab_type": "text"
      },
      "source": [
        "## Another Year\n",
        "These match up, but I'll check another year. \n",
        "Here is one with no presidential election - 1966. I expect (according to the codebook)\n",
        "\n",
        "For the year 1962, I am expecting the following outcomes:\n",
        "\n",
        "President: Empty series, no election.\n",
        "\n",
        "Senate: Dem: 388, Rep: 289\n",
        "\n",
        "House: Dem: 155, Rep: 155"
      ]
    },
    {
      "cell_type": "code",
      "metadata": {
        "id": "-rjrS2KOlkZM",
        "colab_type": "code",
        "colab": {
          "base_uri": "https://localhost:8080/",
          "height": 34
        },
        "outputId": "eac3da36-a7db-486a-8525-0f1e7448243b"
      },
      "source": [
        "year_number = 1966\n",
        "year_filter = anes['VCF0004'] == year_number\n",
        "year = anes[year_filter]\n",
        "pres_vote = year[\"VCF0706\"]\n",
        "house_vote = year[\"VCF0707\"]\n",
        "senate_vote = year[\"VCF0708\"]\n",
        "views = year[\"VCF0301\"]\n",
        "\n",
        "\n",
        "pres_vote.value_counts()"
      ],
      "execution_count": 28,
      "outputs": [
        {
          "output_type": "execute_result",
          "data": {
            "text/plain": [
              "Series([], Name: VCF0706, dtype: int64)"
            ]
          },
          "metadata": {
            "tags": []
          },
          "execution_count": 28
        }
      ]
    },
    {
      "cell_type": "code",
      "metadata": {
        "id": "pXCXjuMplkZT",
        "colab_type": "code",
        "colab": {
          "base_uri": "https://localhost:8080/",
          "height": 70
        },
        "outputId": "0fd6aaf2-384d-4f28-f1a4-633eb36ed67d"
      },
      "source": [
        "house_vote.value_counts()"
      ],
      "execution_count": 29,
      "outputs": [
        {
          "output_type": "execute_result",
          "data": {
            "text/plain": [
              "1. Democrat      388\n",
              "2. Republican    289\n",
              "Name: VCF0707, dtype: int64"
            ]
          },
          "metadata": {
            "tags": []
          },
          "execution_count": 29
        }
      ]
    },
    {
      "cell_type": "code",
      "metadata": {
        "id": "qBPtl7cclkZa",
        "colab_type": "code",
        "colab": {
          "base_uri": "https://localhost:8080/",
          "height": 70
        },
        "outputId": "f5acac42-ca5a-4895-89da-d2306f887783"
      },
      "source": [
        "senate_vote.value_counts()"
      ],
      "execution_count": 30,
      "outputs": [
        {
          "output_type": "execute_result",
          "data": {
            "text/plain": [
              "2. Republican    155\n",
              "1. Democrat      155\n",
              "Name: VCF0708, dtype: int64"
            ]
          },
          "metadata": {
            "tags": []
          },
          "execution_count": 30
        }
      ]
    },
    {
      "cell_type": "code",
      "metadata": {
        "id": "9LVEzP0plkZk",
        "colab_type": "code",
        "colab": {
          "base_uri": "https://localhost:8080/",
          "height": 158
        },
        "outputId": "16678342-5250-4844-ee35-adcc69c988c6"
      },
      "source": [
        "views.value_counts()"
      ],
      "execution_count": 31,
      "outputs": [
        {
          "output_type": "execute_result",
          "data": {
            "text/plain": [
              "2. Weak Democrat                354\n",
              "1. Strong Democrat              230\n",
              "6. Weak Republican              194\n",
              "4. Independent - Independent    157\n",
              "7. Strong Republican            123\n",
              "3. Independent - Democrat       115\n",
              "5. Independent - Republican      90\n",
              "Name: VCF0301, dtype: int64"
            ]
          },
          "metadata": {
            "tags": []
          },
          "execution_count": 31
        }
      ]
    },
    {
      "cell_type": "markdown",
      "metadata": {
        "id": "F_tbzbDFlkZs",
        "colab_type": "text"
      },
      "source": [
        "As these match up, I feel comfortable using this data for analysis."
      ]
    },
    {
      "cell_type": "markdown",
      "metadata": {
        "id": "31o8GjQIlkZt",
        "colab_type": "text"
      },
      "source": [
        "# Resampling\n",
        "The last way to prepare the dataset is to account for the startified sampling of the data. Unfortunately, the weights are farily complicated to put in place for this dataset - not every year has weights associated with it, and there are different weight for different modes of administration used at different times. One thing to keep in mind is that the weights change by variable - different types have different weights, and the types vary by individual variable. Luckily, I can mainly stick to \"Type 0\" variables for my analysis here, and because I don't care about separating out the face to face and online sample (beyond just making sure that they are sampled correctly), I can use one weight variable for my analysis. Here's the [appendix](https://electionstudies.org/wp-content/uploads/2018/12/anes_timeseries_cdf_codebook_app.pdf) detailing more about how weighting works here. \n",
        "\n",
        "To confirm this, I'll resample the dataset and then check out one of the variables I just validated - I should expect to see a small delta in the values.  "
      ]
    },
    {
      "cell_type": "code",
      "metadata": {
        "id": "wwBSmhdwlkZu",
        "colab_type": "code",
        "colab": {}
      },
      "source": [
        "n = len(anes)\n",
        "weights = anes['VCF0009z']\n",
        "sample = anes.sample(n, \n",
        "                     replace=True, \n",
        "                     weights=weights)\n"
      ],
      "execution_count": 0,
      "outputs": []
    },
    {
      "cell_type": "code",
      "metadata": {
        "id": "eESkW_f8lkZy",
        "colab_type": "code",
        "colab": {
          "base_uri": "https://localhost:8080/",
          "height": 70
        },
        "outputId": "9acd9a09-663c-40be-a504-1e2f871adb1d"
      },
      "source": [
        "year_number = 1966\n",
        "year_filter = sample['VCF0004'] == year_number\n",
        "year = sample[year_filter]\n",
        "pres_vote = year[\"VCF0706\"]\n",
        "house_vote = year[\"VCF0707\"]\n",
        "senate_vote = year[\"VCF0708\"]\n",
        "views = year[\"VCF0301\"]\n",
        "\n",
        "\n",
        "house_vote.value_counts()"
      ],
      "execution_count": 34,
      "outputs": [
        {
          "output_type": "execute_result",
          "data": {
            "text/plain": [
              "1. Democrat      356\n",
              "2. Republican    300\n",
              "Name: VCF0707, dtype: int64"
            ]
          },
          "metadata": {
            "tags": []
          },
          "execution_count": 34
        }
      ]
    },
    {
      "cell_type": "code",
      "metadata": {
        "id": "8T7Du80OlkZ2",
        "colab_type": "code",
        "colab": {
          "base_uri": "https://localhost:8080/",
          "height": 70
        },
        "outputId": "dbc48ba6-4eb5-4256-da15-d0131d765499"
      },
      "source": [
        "senate_vote.value_counts()"
      ],
      "execution_count": 35,
      "outputs": [
        {
          "output_type": "execute_result",
          "data": {
            "text/plain": [
              "2. Republican    157\n",
              "1. Democrat      134\n",
              "Name: VCF0708, dtype: int64"
            ]
          },
          "metadata": {
            "tags": []
          },
          "execution_count": 35
        }
      ]
    },
    {
      "cell_type": "markdown",
      "metadata": {
        "id": "s27T7S1alkZ8",
        "colab_type": "text"
      },
      "source": [
        "As I do see a small change, I feel comfortable moving forward with my analysis as long as I do this resampling step. I do the rest of the work for this project in the [Analysis notebook](https://github.com/anushadatar/split-ticket/blob/master/Analysis.ipynb) . "
      ]
    }
  ]
}